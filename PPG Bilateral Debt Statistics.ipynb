{
 "cells": [
  {
   "cell_type": "code",
   "execution_count": 20,
   "metadata": {},
   "outputs": [],
   "source": [
    "# Import required packages\n",
    "import requests\n",
    "import json\n",
    "import pandas as pd\n",
    "import plotly.express as px\n",
    "import plotly.io as pio\n",
    "import warnings\n",
    "warnings.filterwarnings('ignore')\n",
    "pio.renderers.default = \"notebook\""
   ]
  },
  {
   "cell_type": "code",
   "execution_count": 2,
   "metadata": {},
   "outputs": [],
   "source": [
    "#Specifying Debtor Country & Creditor Country to check data\n",
    "debtorCountry = input(\"Enter Debtor Country Code \\n\")\n",
    "creditorCountry = input(\"Enter Creditor Country Code \\n\")\n",
    "series = \"DT.DOD.BLAT.CD\"\n",
    "time = \"All\""
   ]
  },
  {
   "cell_type": "code",
   "execution_count": 3,
   "metadata": {},
   "outputs": [],
   "source": [
    "# Setting up the API URL\n",
    "url = \"http://api.worldbank.org/v2/sources/6/country/\"\n",
    "end = \"?format=json&per_page=500\"\n",
    "path = url+debtorCountry+\"/series/\"+series+\"/counterpart-area/\"+creditorCountry+\"/time/\"+time+end"
   ]
  },
  {
   "cell_type": "code",
   "execution_count": 21,
   "metadata": {},
   "outputs": [],
   "source": [
    "# Creating a funtion that will parse through the JSON response\n",
    "def getData(JSON):\n",
    "    df = pd.DataFrame(columns=[\"year\", \"creditor\", \"debtor\", \"indicator\",\"data\"])\n",
    "    print(df)\n",
    "    for i in range(0,listLen):\n",
    "        time = JSON[\"source\"][\"data\"][i][\"variable\"][1][\"value\"]\n",
    "        num = JSON[\"source\"][\"data\"][i][\"value\"]\n",
    "        df = df.append({\"year\":time, \"creditor\": creditorCountry, \n",
    "                        \"debtor\":debtorCountry, \"indicator\":series, \"data\":num\n",
    "                       }, ignore_index = True)\n",
    "\n",
    "           return(df)"
   ]
  },
  {
   "cell_type": "code",
   "execution_count": 22,
   "metadata": {},
   "outputs": [],
   "source": [
    "# Getting the data from the API\n",
    "custom = requests.get(path)\n",
    "customJSON = custom.json()\n",
    "listLen = int(len(customJSON[\"source\"][\"data\"]))"
   ]
  },
  {
   "cell_type": "code",
   "execution_count": 23,
   "metadata": {},
   "outputs": [
    {
     "name": "stdout",
     "output_type": "stream",
     "text": [
      "Excel File Saved\n"
     ]
    }
   ],
   "source": [
    "# Plugging the data into the parsing function and saving data in Excel file\n",
    "IDSdata = getData(customJSON)\n",
    "datatoexcel = pd.ExcelWriter(f'{debtorCountry}-{creditorCountry} PPG Bilateral Debt.xlsx')\n",
    "IDSdata.to_excel(datatoexcel)\n",
    "datatoexcel.save()\n",
    "print(\"Excel File Saved\")"
   ]
  },
  {
   "cell_type": "code",
   "execution_count": 4,
   "metadata": {},
   "outputs": [
    {
     "ename": "NameError",
     "evalue": "name 'getData' is not defined",
     "output_type": "error",
     "traceback": [
      "\u001b[1;31m---------------------------------------------------------------------------\u001b[0m",
      "\u001b[1;31mNameError\u001b[0m                                 Traceback (most recent call last)",
      "\u001b[1;32mc:\\Users\\heyit\\Desktop\\International Deb Statistics - PPG Bilateral Debt\\PPG Bilateral Debt Statistics.ipynb Cell 7\u001b[0m in \u001b[0;36m<cell line: 2>\u001b[1;34m()\u001b[0m\n\u001b[0;32m      <a href='vscode-notebook-cell:/c%3A/Users/heyit/Desktop/International%20Deb%20Statistics%20-%20PPG%20Bilateral%20Debt/PPG%20Bilateral%20Debt%20Statistics.ipynb#ch0000006?line=0'>1</a>\u001b[0m \u001b[39m# Plugging the data into the parsing function and printing the data (excluding NaN values)\u001b[39;00m\n\u001b[1;32m----> <a href='vscode-notebook-cell:/c%3A/Users/heyit/Desktop/International%20Deb%20Statistics%20-%20PPG%20Bilateral%20Debt/PPG%20Bilateral%20Debt%20Statistics.ipynb#ch0000006?line=1'>2</a>\u001b[0m IDSdata \u001b[39m=\u001b[39m getData(customJSON)\u001b[39m.\u001b[39mdropna()\n\u001b[0;32m      <a href='vscode-notebook-cell:/c%3A/Users/heyit/Desktop/International%20Deb%20Statistics%20-%20PPG%20Bilateral%20Debt/PPG%20Bilateral%20Debt%20Statistics.ipynb#ch0000006?line=2'>3</a>\u001b[0m \u001b[39mprint\u001b[39m(IDSdata\u001b[39m.\u001b[39mtail(\u001b[39m10\u001b[39m))\n",
      "\u001b[1;31mNameError\u001b[0m: name 'getData' is not defined"
     ]
    }
   ],
   "source": [
    "# Plugging the data into the parsing function and printing the data (excluding NaN values)\n",
    "IDSdata = getData(customJSON).dropna()\n",
    "print(IDSdata.tail(10))"
   ]
  },
  {
   "cell_type": "code",
   "execution_count": 2,
   "metadata": {},
   "outputs": [
    {
     "ename": "NameError",
     "evalue": "name 'IDSdata' is not defined",
     "output_type": "error",
     "traceback": [
      "\u001b[1;31m---------------------------------------------------------------------------\u001b[0m",
      "\u001b[1;31mNameError\u001b[0m                                 Traceback (most recent call last)",
      "\u001b[1;32mc:\\Users\\heyit\\Desktop\\International Deb Statistics - PPG Bilateral Debt\\PPG Bilateral Debt Statistics.ipynb Cell 8\u001b[0m in \u001b[0;36m<cell line: 2>\u001b[1;34m()\u001b[0m\n\u001b[0;32m      <a href='vscode-notebook-cell:/c%3A/Users/heyit/Desktop/International%20Deb%20Statistics%20-%20PPG%20Bilateral%20Debt/PPG%20Bilateral%20Debt%20Statistics.ipynb#ch0000007?line=0'>1</a>\u001b[0m \u001b[39m# Selecting the dataframe created above as the data source for the chart\u001b[39;00m\n\u001b[1;32m----> <a href='vscode-notebook-cell:/c%3A/Users/heyit/Desktop/International%20Deb%20Statistics%20-%20PPG%20Bilateral%20Debt/PPG%20Bilateral%20Debt%20Statistics.ipynb#ch0000007?line=1'>2</a>\u001b[0m source \u001b[39m=\u001b[39m IDSdata\u001b[39m.\u001b[39mtail(\u001b[39m10\u001b[39m)\n\u001b[0;32m      <a href='vscode-notebook-cell:/c%3A/Users/heyit/Desktop/International%20Deb%20Statistics%20-%20PPG%20Bilateral%20Debt/PPG%20Bilateral%20Debt%20Statistics.ipynb#ch0000007?line=3'>4</a>\u001b[0m \u001b[39m# Plugging in the datasource, X and Y indicators, and the title for the chart\u001b[39;00m\n\u001b[0;32m      <a href='vscode-notebook-cell:/c%3A/Users/heyit/Desktop/International%20Deb%20Statistics%20-%20PPG%20Bilateral%20Debt/PPG%20Bilateral%20Debt%20Statistics.ipynb#ch0000007?line=4'>5</a>\u001b[0m chart \u001b[39m=\u001b[39m px\u001b[39m.\u001b[39mbar(source, \n\u001b[0;32m      <a href='vscode-notebook-cell:/c%3A/Users/heyit/Desktop/International%20Deb%20Statistics%20-%20PPG%20Bilateral%20Debt/PPG%20Bilateral%20Debt%20Statistics.ipynb#ch0000007?line=5'>6</a>\u001b[0m                 x\u001b[39m=\u001b[39m\u001b[39m\"\u001b[39m\u001b[39myear\u001b[39m\u001b[39m\"\u001b[39m,\n\u001b[0;32m      <a href='vscode-notebook-cell:/c%3A/Users/heyit/Desktop/International%20Deb%20Statistics%20-%20PPG%20Bilateral%20Debt/PPG%20Bilateral%20Debt%20Statistics.ipynb#ch0000007?line=6'>7</a>\u001b[0m                 y\u001b[39m=\u001b[39m\u001b[39m\"\u001b[39m\u001b[39mdata\u001b[39m\u001b[39m\"\u001b[39m,\n\u001b[0;32m      <a href='vscode-notebook-cell:/c%3A/Users/heyit/Desktop/International%20Deb%20Statistics%20-%20PPG%20Bilateral%20Debt/PPG%20Bilateral%20Debt%20Statistics.ipynb#ch0000007?line=7'>8</a>\u001b[0m                 title\u001b[39m=\u001b[39m\u001b[39mf\u001b[39m\u001b[39m'\u001b[39m\u001b[39mOfficial bilateral PPG Lending from \u001b[39m\u001b[39m{\u001b[39;00mcreditorCountry\u001b[39m}\u001b[39;00m\u001b[39m to \u001b[39m\u001b[39m{\u001b[39;00mdebtorCountry\u001b[39m}\u001b[39;00m\u001b[39m (US$)\u001b[39m\u001b[39m'\u001b[39m)\n",
      "\u001b[1;31mNameError\u001b[0m: name 'IDSdata' is not defined"
     ]
    }
   ],
   "source": [
    "# Selecting the dataframe created above as the data source for the chart\n",
    "source = IDSdata.tail(10)\n",
    "\n",
    "# Plugging in the datasource, X and Y indicators, and the title for the chart\n",
    "chart = px.bar(source, \n",
    "                x=\"year\",\n",
    "                y=\"data\",\n",
    "                title=f'Official bilateral PPG Lending from {creditorCountry} to {debtorCountry} (US$)')\n",
    "# Displaying the chart\n",
    "chart.show()"
   ]
  },
  {
   "cell_type": "code",
   "execution_count": null,
   "metadata": {},
   "outputs": [],
   "source": []
  }
 ],
 "metadata": {
  "kernelspec": {
   "display_name": "Python 3.8.5 32-bit",
   "language": "python",
   "name": "python3"
  },
  "language_info": {
   "codemirror_mode": {
    "name": "ipython",
    "version": 3
   },
   "file_extension": ".py",
   "mimetype": "text/x-python",
   "name": "python",
   "nbconvert_exporter": "python",
   "pygments_lexer": "ipython3",
   "version": "3.8.5"
  },
  "orig_nbformat": 4,
  "vscode": {
   "interpreter": {
    "hash": "21aced6f22f59c7b6ff62623abeec15a5861b8ff0ac6a4046195bb6d75d2b065"
   }
  }
 },
 "nbformat": 4,
 "nbformat_minor": 2
}
